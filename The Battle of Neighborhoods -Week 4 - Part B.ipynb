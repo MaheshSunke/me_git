{
    "cells": [
        {
            "cell_type": "markdown",
            "metadata": {
                "collapsed": true
            },
            "source": "<b><center><u><font size=\"5\">  The Battle of Neighborhoods</b></center></u></font>\n<center><b><font size=\"3\"> Part - 'B'</center></b></font> \n\n### Title: Explore City - Hyderabad"
        },
        {
            "cell_type": "markdown",
            "metadata": {},
            "source": "<b><u>Data requirements :</b></u>\nTo find a solution to the questions and build a suitable model, we need good amount of data. Data can answer so many things. \n\nTo build the systematic model for the requirement: we may required,\n* Neighborhood details in the city\n* Population\n* Attractions\n* Transport hubs details\n* Infrastructure\n* Companies/Organizations\n* Average house rent/properties\n* Localities near by\n* Facilities\n* Political/Regional commanded neighberhoods if any.\n* Others.\n\n<b><u>Data collection :</b></u>\nWe have various sources for collecting above data. Offcouse, some are open source and some may not. I have used:\n* Open source data websites such as wikipedia, india gov website, census report websites, etc.\n* Govt websites\n* Social websites to understand any political/regional commanded neighborhoods\n* Transportation department sites\n* Others.\n\n<b><u>Technology support:</b></u>\n* FourSquare API: I would likd to use Four-square API as a prime data gathering source as it has a database of millions of places, especially their places API which provides the ability to perform location search, location sharing and details about a business and etc.\n* After finding the list of neighborhoods, we then connect to the Foursquare API to gather information about venues inside each and every neighborhood. \n* The data retrieved from Foursquare contained information of venues within a specified distance of the longitude and latitude of the neighborhoods. \n* The information obtained per venue as follows:\n    * Neighborhood\n    * Neighborhood Latitude\n    * Neighborhood Longitude\n    * Venue\n    * Name of the venue e.g. the name of a store or restaurant\n    * Venue Latitude\n    * Venue Longitude\n    * Venue Category\n\n<b><u>Libraries & Packages:</b></u>\n* Pandas: For creating and manipulating dataframes.\n* Folium: Python visualization library would be used to visualize the neighborhoods cluster distribution of using interactive leaflet map.\n* Scikit Learn: For importing k-means clustering.\n* JSON: Library to handle JSON files.\n* XML: To separate data from presentation and XML stores data in plain text format.\n* Geocoder: To retrieve Location Data.\n* Beautiful Soup and Requests: To scrap and library to handle http requests.\n* Matplotlib: Python Plotting Module.\n"
        }
    ],
    "metadata": {
        "kernelspec": {
            "display_name": "Python 3.6",
            "language": "python",
            "name": "python3"
        },
        "language_info": {
            "codemirror_mode": {
                "name": "ipython",
                "version": 3
            },
            "file_extension": ".py",
            "mimetype": "text/x-python",
            "name": "python",
            "nbconvert_exporter": "python",
            "pygments_lexer": "ipython3",
            "version": "3.6.9"
        }
    },
    "nbformat": 4,
    "nbformat_minor": 1
}