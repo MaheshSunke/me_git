{
    "cells": [
        {
            "cell_type": "markdown",
            "metadata": {},
            "source": "## The Battle of Neighborhoods\n### Part - 'A'\n\n### Title: Explore City - Hyderabad\n\n#### Introduction:\nThe purpose of this Project is to help the people in exploring Hyderabad and its neighborhoods and It also helps the people to make smart and efficient decisions on chossing good and comfortable neighborhood out of numbers of other neighborhoods in Hyderabad.\n\nHyderabad City has a population of about 6.9 million, with about 9.7 million in Hyderabad Metropolitan Region, making it the fourth-most populous city and sixth-most populous urban agglomeration in India. With an output of US$74 billion, Hyderabad is the fifth-largest contributor to India's overall gross domestic product. The city has emerged as an Indian hub of pharmaceuticals and biotechnology. The formation of special economic zones and HITEC City dedicated to information technology has encouraged leading multinationals to set up operations in Hyderabad. \n\n#### Problem description:\nHyderabad is most happening city in India. Somany people from all over the country and world comes to Hyderabad to explore opportunities. The people looks for better neighborhood in the city as per the facilites, localities, comforts and etc. \n\nThe people might look for:\n* Better neighborhood\n* Transportation availability(bus stops, railway stations, airport and etc.)\n* Near by attractions\n* Safety\n* House Rent\n* Cost of Living\n* Malls, Super markets, Multiplexes and etc.\n\nTo address above, there should be a systematic solution which can help the people in exploring and choosing better neighberhood.\n\n#### Target audience :\n* Travellers/Visitors\n* Employees\n* Students\n* The target for this project is basically for everyone who would like to explore Hyderabad."
        }
    ],
    "metadata": {
        "kernelspec": {
            "display_name": "Python 3.6",
            "language": "python",
            "name": "python3"
        },
        "language_info": {
            "codemirror_mode": {
                "name": "ipython",
                "version": 3
            },
            "file_extension": ".py",
            "mimetype": "text/x-python",
            "name": "python",
            "nbconvert_exporter": "python",
            "pygments_lexer": "ipython3",
            "version": "3.6.9"
        }
    },
    "nbformat": 4,
    "nbformat_minor": 1
}